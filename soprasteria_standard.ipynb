{
 "cells": [
  {
   "cell_type": "code",
   "execution_count": 1,
   "metadata": {
    "_cell_guid": "b1076dfc-b9ad-4769-8c92-a6c4dae69d19",
    "_uuid": "8f2839f25d086af736a60e9eeb907d3b93b6e0e5",
    "execution": {
     "iopub.execute_input": "2025-07-09T17:11:06.149922Z",
     "iopub.status.busy": "2025-07-09T17:11:06.148873Z",
     "iopub.status.idle": "2025-07-09T17:11:10.213292Z",
     "shell.execute_reply": "2025-07-09T17:11:10.211795Z",
     "shell.execute_reply.started": "2025-07-09T17:11:06.149876Z"
    },
    "trusted": true
   },
   "outputs": [
    {
     "name": "stderr",
     "output_type": "stream",
     "text": [
      "\n",
      "[notice] A new release of pip is available: 23.2.1 -> 25.1.1\n",
      "[notice] To update, run: python.exe -m pip install --upgrade pip\n"
     ]
    }
   ],
   "source": [
    "!pip install -q mediapipe"
   ]
  },
  {
   "cell_type": "code",
   "execution_count": 2,
   "metadata": {
    "execution": {
     "iopub.execute_input": "2025-07-09T17:11:10.215922Z",
     "iopub.status.busy": "2025-07-09T17:11:10.215584Z",
     "iopub.status.idle": "2025-07-09T17:11:10.501515Z",
     "shell.execute_reply": "2025-07-09T17:11:10.499914Z",
     "shell.execute_reply.started": "2025-07-09T17:11:10.215890Z"
    },
    "trusted": true
   },
   "outputs": [
    {
     "name": "stderr",
     "output_type": "stream",
     "text": [
      "'wget' is not recognized as an internal or external command,\n",
      "operable program or batch file.\n"
     ]
    }
   ],
   "source": [
    "!wget -q https://storage.googleapis.com/mediapipe-models/hand_landmarker/hand_landmarker/float16/1/hand_landmarker.task"
   ]
  },
  {
   "cell_type": "code",
   "execution_count": 3,
   "metadata": {
    "execution": {
     "iopub.execute_input": "2025-07-09T17:11:10.503399Z",
     "iopub.status.busy": "2025-07-09T17:11:10.503079Z",
     "iopub.status.idle": "2025-07-09T17:11:15.414308Z",
     "shell.execute_reply": "2025-07-09T17:11:15.413104Z",
     "shell.execute_reply.started": "2025-07-09T17:11:10.503370Z"
    },
    "trusted": true
   },
   "outputs": [],
   "source": [
    "import mediapipe as mp\n",
    "from mediapipe.tasks import python\n",
    "from mediapipe.tasks.python import vision\n",
    "import cv2\n",
    "import time\n",
    "import random\n",
    "import numpy"
   ]
  },
  {
   "cell_type": "code",
   "execution_count": 4,
   "metadata": {
    "execution": {
     "iopub.execute_input": "2025-07-09T17:12:35.499410Z",
     "iopub.status.busy": "2025-07-09T17:12:35.499062Z",
     "iopub.status.idle": "2025-07-09T17:12:35.698819Z",
     "shell.execute_reply": "2025-07-09T17:12:35.697396Z",
     "shell.execute_reply.started": "2025-07-09T17:12:35.499390Z"
    },
    "trusted": true
   },
   "outputs": [],
   "source": [
    "show_finger_dots = True  # Flag to toggle the display of green dot on index fingertip\n",
    "\n",
    "# Import necessary MediaPipe classes for hand tracking\n",
    "BaseOptions = mp.tasks.BaseOptions\n",
    "HandLandmarker = mp.tasks.vision.HandLandmarker\n",
    "HandLandmarkerOptions = mp.tasks.vision.HandLandmarkerOptions\n",
    "HandLandmarkerResult = mp.tasks.vision.HandLandmarkerResult\n",
    "VisionRunningMode = mp.tasks.vision.RunningMode\n",
    "\n",
    "index_finger_coords = None  # Variable to store the index finger coordinates of a hand\n",
    "\n",
    "# Callback function to handle hand detection results\n",
    "def print_result(result: HandLandmarkerResult, output_image: mp.Image, timestamp_ms: int):\n",
    "    global index_finger_coords\n",
    "    if result.hand_landmarks:\n",
    "        for hand_idx, hand_landmarks in enumerate(result.hand_landmarks):\n",
    "            index_finger_tip = hand_landmarks[8]  # Index finger tip (landmark 8)\n",
    "            index_finger_coords = (index_finger_tip.x, index_finger_tip.y)\n",
    "\n",
    "# Configure the hand landmarker for live video input and callback on detection\n",
    "options = HandLandmarkerOptions(\n",
    "    base_options=BaseOptions(model_asset_path='hand_landmarker.task'),\n",
    "    running_mode=VisionRunningMode.LIVE_STREAM,\n",
    "    result_callback=print_result)\n",
    "\n",
    "# Create the hand landmarker instance\n",
    "landmarker = HandLandmarker.create_from_options(options)\n",
    "\n",
    "# Start video capture from the webcam\n",
    "cap = cv2.VideoCapture(0)\n",
    "\n",
    "# Exit if webcam is not found or cannot be opened\n",
    "if not cap.isOpened():\n",
    "    print(\"Error: Could not open webcam.\")\n",
    "    exit()\n",
    "\n",
    "# Read a single frame to get image dimensions\n",
    "ret, frame = cap.read()\n",
    "h, w, _ = frame.shape\n",
    "\n",
    "# Randomize target objective position\n",
    "x_pix_objective = int(random.uniform(0.1, 0.9) * w) \n",
    "y_pix_objective = int(random.uniform(0.1, 0.9) * h)\n",
    "\n",
    "points = 0  # Game score\n",
    "\n",
    "last_toggle_time = 0  # Timestamp of the last toggle action\n",
    "hover_start_time = None  # Tracks when user started hovering over the \"Quit\" dot\n",
    "\n",
    "# Main loop to process video frames\n",
    "while True:\n",
    "    ret, frame = cap.read()  # Capture new frame from webcam\n",
    "    frame = cv2.flip(frame, 1)  # Mirror the image\n",
    "\n",
    "    # CConvert OpenCV frame to MediaPipe Image format\n",
    "    mp_image = mp.Image(image_format=mp.ImageFormat.SRGB, data=frame)\n",
    "    timestamp_ms = int(time.time() * 1000)\n",
    "\n",
    "    # Perform asynchronous hand landmark detection\n",
    "    landmarker.detect_async(mp_image, timestamp_ms)\n",
    "\n",
    "    if index_finger_coords:\n",
    "        # Convert normalized coordinates to pixel coordinates\n",
    "        x_pix_finger = int(index_finger_coords[0] * w)\n",
    "        y_pix_finger = int(index_finger_coords[1] * h)\n",
    "\n",
    "        # Draw a green dot on the fingertip if toggled on\n",
    "        if show_finger_dots:\n",
    "            cv2.circle(frame, (x_pix_finger, y_pix_finger), 10, (0, 255, 0), -1)\n",
    "\n",
    "        # If fingertip touches red target, award a point and generate a new target\n",
    "        if numpy.sqrt((x_pix_finger - x_pix_objective)**2 + (y_pix_finger - y_pix_objective)**2) < 10:\n",
    "            points += 1\n",
    "            x_pix_objective = int(random.uniform(0.1, 0.9) * w) \n",
    "            y_pix_objective = int(random.uniform(0.1, 0.9) * h)\n",
    "\n",
    "        # If fingertip hovers over the toggle dot, toggle visibility of dot on fingertip with a 1-second cooldown\n",
    "        if numpy.sqrt((x_pix_finger - 10)**2 + (y_pix_finger - 50)**2) < 10:\n",
    "            current_time = time.time()\n",
    "            if current_time - last_toggle_time >= 1:\n",
    "                show_finger_dots = not show_finger_dots\n",
    "                last_toggle_time = current_time\n",
    "\n",
    "        # If fingertip hovers over the quit dot for 2+ seconds, break loop\n",
    "        if numpy.sqrt((x_pix_finger - 10)**2 + (y_pix_finger - 80)**2) < 10:\n",
    "            current_time = time.time()\n",
    "            if hover_start_time is None:\n",
    "                hover_start_time = current_time\n",
    "            elif current_time - hover_start_time >= 2:\n",
    "                break\n",
    "        else:\n",
    "            hover_start_time = None  # Reset timer if finger leaves the dot\n",
    "\n",
    "    # Draw red target dot, toggle dot, and quit dot\n",
    "    cv2.circle(frame, (x_pix_objective, y_pix_objective), 10, (0, 0, 255), -1)  # Target\n",
    "    cv2.circle(frame, (10, 50), 10, (0, 0, 0), -1)  # Toggle display dot\n",
    "    cv2.circle(frame, (10, 80), 10, (0, 0, 0), -1)  # Quit dot\n",
    "\n",
    "    # Draw score text\n",
    "    score_text = f\"Score: {points}\"\n",
    "    cv2.putText(frame, score_text, org=(5, 30), fontFace=cv2.FONT_HERSHEY_SIMPLEX,\n",
    "                fontScale=1, color=(0, 0, 0), thickness=2, lineType=cv2.LINE_AA)\n",
    "\n",
    "    # Draw hitbox for toggle dot\n",
    "    score_text = \"Toggle dot\"\n",
    "    cv2.putText(frame, score_text, org=(25, 60), fontFace=cv2.FONT_HERSHEY_SIMPLEX,\n",
    "                fontScale=1, color=(0, 0, 0), thickness=2, lineType=cv2.LINE_AA)\n",
    "\n",
    "    # Draw hitbox for quit dot\n",
    "    score_text = \"Quit\"\n",
    "    cv2.putText(frame, score_text, org=(25, 90), fontFace=cv2.FONT_HERSHEY_SIMPLEX,\n",
    "                fontScale=1, color=(0, 0, 0), thickness=2, lineType=cv2.LINE_AA)\n",
    "\n",
    "    # Show the annotated frame\n",
    "    cv2.imshow(\"Hand Landmarker\", frame)\n",
    "\n",
    "    # Allow early exit using 'q' key\n",
    "    if cv2.waitKey(1) & 0xFF == ord('q'):\n",
    "        break\n",
    "\n",
    "# Clean up resources\n",
    "cap.release()\n",
    "cv2.destroyAllWindows()"
   ]
  }
 ],
 "metadata": {
  "kaggle": {
   "accelerator": "none",
   "dataSources": [],
   "dockerImageVersionId": 31089,
   "isGpuEnabled": false,
   "isInternetEnabled": true,
   "language": "python",
   "sourceType": "notebook"
  },
  "kernelspec": {
   "display_name": "Python 3",
   "language": "python",
   "name": "python3"
  },
  "language_info": {
   "codemirror_mode": {
    "name": "ipython",
    "version": 3
   },
   "file_extension": ".py",
   "mimetype": "text/x-python",
   "name": "python",
   "nbconvert_exporter": "python",
   "pygments_lexer": "ipython3",
   "version": "3.12.0"
  }
 },
 "nbformat": 4,
 "nbformat_minor": 4
}
